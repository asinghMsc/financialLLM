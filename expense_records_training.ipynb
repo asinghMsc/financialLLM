{
  "nbformat": 4,
  "nbformat_minor": 0,
  "metadata": {
    "colab": {
      "provenance": [],
      "gpuType": "T4",
      "mount_file_id": "1rnkZ6YD5sDb1KIHSpCMRrWZdBDGlCQOi",
      "authorship_tag": "ABX9TyMNnKZZ/a+YmSs/kIZP8VMm"
    },
    "kernelspec": {
      "name": "python3",
      "display_name": "Python 3"
    },
    "language_info": {
      "name": "python"
    },
    "accelerator": "GPU"
  },
  "cells": [
    {
      "cell_type": "code",
      "execution_count": 2,
      "metadata": {
        "colab": {
          "base_uri": "https://localhost:8080/",
          "height": 206
        },
        "collapsed": true,
        "id": "GB5aWIcCZORk",
        "outputId": "5f16f156-f7f0-49c2-d7dc-3d614cdc865a"
      },
      "outputs": [
        {
          "output_type": "execute_result",
          "data": {
            "text/plain": [
              "                                              prompt                 target\n",
              "0  CloudBooks | business audit | £399.93 | Master...  Professional Services\n",
              "1  CloudBooks | transfer surcharge | $164.51 | Vi...              Bank Fees\n",
              "2  EcoRide | team subscription | £452.64 | Direct...          Subscriptions\n",
              "3  BizPhone Inc. | desk organizer | £192.08 | Dir...        Office Supplies\n",
              "4  LunchMate | internet service | $174.07 | Direc...              Utilities"
            ],
            "text/html": [
              "\n",
              "  <div id=\"df-2e049461-39a4-42ed-861f-97c0e8670ef9\" class=\"colab-df-container\">\n",
              "    <div>\n",
              "<style scoped>\n",
              "    .dataframe tbody tr th:only-of-type {\n",
              "        vertical-align: middle;\n",
              "    }\n",
              "\n",
              "    .dataframe tbody tr th {\n",
              "        vertical-align: top;\n",
              "    }\n",
              "\n",
              "    .dataframe thead th {\n",
              "        text-align: right;\n",
              "    }\n",
              "</style>\n",
              "<table border=\"1\" class=\"dataframe\">\n",
              "  <thead>\n",
              "    <tr style=\"text-align: right;\">\n",
              "      <th></th>\n",
              "      <th>prompt</th>\n",
              "      <th>target</th>\n",
              "    </tr>\n",
              "  </thead>\n",
              "  <tbody>\n",
              "    <tr>\n",
              "      <th>0</th>\n",
              "      <td>CloudBooks | business audit | £399.93 | Master...</td>\n",
              "      <td>Professional Services</td>\n",
              "    </tr>\n",
              "    <tr>\n",
              "      <th>1</th>\n",
              "      <td>CloudBooks | transfer surcharge | $164.51 | Vi...</td>\n",
              "      <td>Bank Fees</td>\n",
              "    </tr>\n",
              "    <tr>\n",
              "      <th>2</th>\n",
              "      <td>EcoRide | team subscription | £452.64 | Direct...</td>\n",
              "      <td>Subscriptions</td>\n",
              "    </tr>\n",
              "    <tr>\n",
              "      <th>3</th>\n",
              "      <td>BizPhone Inc. | desk organizer | £192.08 | Dir...</td>\n",
              "      <td>Office Supplies</td>\n",
              "    </tr>\n",
              "    <tr>\n",
              "      <th>4</th>\n",
              "      <td>LunchMate | internet service | $174.07 | Direc...</td>\n",
              "      <td>Utilities</td>\n",
              "    </tr>\n",
              "  </tbody>\n",
              "</table>\n",
              "</div>\n",
              "    <div class=\"colab-df-buttons\">\n",
              "\n",
              "  <div class=\"colab-df-container\">\n",
              "    <button class=\"colab-df-convert\" onclick=\"convertToInteractive('df-2e049461-39a4-42ed-861f-97c0e8670ef9')\"\n",
              "            title=\"Convert this dataframe to an interactive table.\"\n",
              "            style=\"display:none;\">\n",
              "\n",
              "  <svg xmlns=\"http://www.w3.org/2000/svg\" height=\"24px\" viewBox=\"0 -960 960 960\">\n",
              "    <path d=\"M120-120v-720h720v720H120Zm60-500h600v-160H180v160Zm220 220h160v-160H400v160Zm0 220h160v-160H400v160ZM180-400h160v-160H180v160Zm440 0h160v-160H620v160ZM180-180h160v-160H180v160Zm440 0h160v-160H620v160Z\"/>\n",
              "  </svg>\n",
              "    </button>\n",
              "\n",
              "  <style>\n",
              "    .colab-df-container {\n",
              "      display:flex;\n",
              "      gap: 12px;\n",
              "    }\n",
              "\n",
              "    .colab-df-convert {\n",
              "      background-color: #E8F0FE;\n",
              "      border: none;\n",
              "      border-radius: 50%;\n",
              "      cursor: pointer;\n",
              "      display: none;\n",
              "      fill: #1967D2;\n",
              "      height: 32px;\n",
              "      padding: 0 0 0 0;\n",
              "      width: 32px;\n",
              "    }\n",
              "\n",
              "    .colab-df-convert:hover {\n",
              "      background-color: #E2EBFA;\n",
              "      box-shadow: 0px 1px 2px rgba(60, 64, 67, 0.3), 0px 1px 3px 1px rgba(60, 64, 67, 0.15);\n",
              "      fill: #174EA6;\n",
              "    }\n",
              "\n",
              "    .colab-df-buttons div {\n",
              "      margin-bottom: 4px;\n",
              "    }\n",
              "\n",
              "    [theme=dark] .colab-df-convert {\n",
              "      background-color: #3B4455;\n",
              "      fill: #D2E3FC;\n",
              "    }\n",
              "\n",
              "    [theme=dark] .colab-df-convert:hover {\n",
              "      background-color: #434B5C;\n",
              "      box-shadow: 0px 1px 3px 1px rgba(0, 0, 0, 0.15);\n",
              "      filter: drop-shadow(0px 1px 2px rgba(0, 0, 0, 0.3));\n",
              "      fill: #FFFFFF;\n",
              "    }\n",
              "  </style>\n",
              "\n",
              "    <script>\n",
              "      const buttonEl =\n",
              "        document.querySelector('#df-2e049461-39a4-42ed-861f-97c0e8670ef9 button.colab-df-convert');\n",
              "      buttonEl.style.display =\n",
              "        google.colab.kernel.accessAllowed ? 'block' : 'none';\n",
              "\n",
              "      async function convertToInteractive(key) {\n",
              "        const element = document.querySelector('#df-2e049461-39a4-42ed-861f-97c0e8670ef9');\n",
              "        const dataTable =\n",
              "          await google.colab.kernel.invokeFunction('convertToInteractive',\n",
              "                                                    [key], {});\n",
              "        if (!dataTable) return;\n",
              "\n",
              "        const docLinkHtml = 'Like what you see? Visit the ' +\n",
              "          '<a target=\"_blank\" href=https://colab.research.google.com/notebooks/data_table.ipynb>data table notebook</a>'\n",
              "          + ' to learn more about interactive tables.';\n",
              "        element.innerHTML = '';\n",
              "        dataTable['output_type'] = 'display_data';\n",
              "        await google.colab.output.renderOutput(dataTable, element);\n",
              "        const docLink = document.createElement('div');\n",
              "        docLink.innerHTML = docLinkHtml;\n",
              "        element.appendChild(docLink);\n",
              "      }\n",
              "    </script>\n",
              "  </div>\n",
              "\n",
              "\n",
              "    <div id=\"df-44137752-cb24-48d8-b619-0f91b51f9499\">\n",
              "      <button class=\"colab-df-quickchart\" onclick=\"quickchart('df-44137752-cb24-48d8-b619-0f91b51f9499')\"\n",
              "                title=\"Suggest charts\"\n",
              "                style=\"display:none;\">\n",
              "\n",
              "<svg xmlns=\"http://www.w3.org/2000/svg\" height=\"24px\"viewBox=\"0 0 24 24\"\n",
              "     width=\"24px\">\n",
              "    <g>\n",
              "        <path d=\"M19 3H5c-1.1 0-2 .9-2 2v14c0 1.1.9 2 2 2h14c1.1 0 2-.9 2-2V5c0-1.1-.9-2-2-2zM9 17H7v-7h2v7zm4 0h-2V7h2v10zm4 0h-2v-4h2v4z\"/>\n",
              "    </g>\n",
              "</svg>\n",
              "      </button>\n",
              "\n",
              "<style>\n",
              "  .colab-df-quickchart {\n",
              "      --bg-color: #E8F0FE;\n",
              "      --fill-color: #1967D2;\n",
              "      --hover-bg-color: #E2EBFA;\n",
              "      --hover-fill-color: #174EA6;\n",
              "      --disabled-fill-color: #AAA;\n",
              "      --disabled-bg-color: #DDD;\n",
              "  }\n",
              "\n",
              "  [theme=dark] .colab-df-quickchart {\n",
              "      --bg-color: #3B4455;\n",
              "      --fill-color: #D2E3FC;\n",
              "      --hover-bg-color: #434B5C;\n",
              "      --hover-fill-color: #FFFFFF;\n",
              "      --disabled-bg-color: #3B4455;\n",
              "      --disabled-fill-color: #666;\n",
              "  }\n",
              "\n",
              "  .colab-df-quickchart {\n",
              "    background-color: var(--bg-color);\n",
              "    border: none;\n",
              "    border-radius: 50%;\n",
              "    cursor: pointer;\n",
              "    display: none;\n",
              "    fill: var(--fill-color);\n",
              "    height: 32px;\n",
              "    padding: 0;\n",
              "    width: 32px;\n",
              "  }\n",
              "\n",
              "  .colab-df-quickchart:hover {\n",
              "    background-color: var(--hover-bg-color);\n",
              "    box-shadow: 0 1px 2px rgba(60, 64, 67, 0.3), 0 1px 3px 1px rgba(60, 64, 67, 0.15);\n",
              "    fill: var(--button-hover-fill-color);\n",
              "  }\n",
              "\n",
              "  .colab-df-quickchart-complete:disabled,\n",
              "  .colab-df-quickchart-complete:disabled:hover {\n",
              "    background-color: var(--disabled-bg-color);\n",
              "    fill: var(--disabled-fill-color);\n",
              "    box-shadow: none;\n",
              "  }\n",
              "\n",
              "  .colab-df-spinner {\n",
              "    border: 2px solid var(--fill-color);\n",
              "    border-color: transparent;\n",
              "    border-bottom-color: var(--fill-color);\n",
              "    animation:\n",
              "      spin 1s steps(1) infinite;\n",
              "  }\n",
              "\n",
              "  @keyframes spin {\n",
              "    0% {\n",
              "      border-color: transparent;\n",
              "      border-bottom-color: var(--fill-color);\n",
              "      border-left-color: var(--fill-color);\n",
              "    }\n",
              "    20% {\n",
              "      border-color: transparent;\n",
              "      border-left-color: var(--fill-color);\n",
              "      border-top-color: var(--fill-color);\n",
              "    }\n",
              "    30% {\n",
              "      border-color: transparent;\n",
              "      border-left-color: var(--fill-color);\n",
              "      border-top-color: var(--fill-color);\n",
              "      border-right-color: var(--fill-color);\n",
              "    }\n",
              "    40% {\n",
              "      border-color: transparent;\n",
              "      border-right-color: var(--fill-color);\n",
              "      border-top-color: var(--fill-color);\n",
              "    }\n",
              "    60% {\n",
              "      border-color: transparent;\n",
              "      border-right-color: var(--fill-color);\n",
              "    }\n",
              "    80% {\n",
              "      border-color: transparent;\n",
              "      border-right-color: var(--fill-color);\n",
              "      border-bottom-color: var(--fill-color);\n",
              "    }\n",
              "    90% {\n",
              "      border-color: transparent;\n",
              "      border-bottom-color: var(--fill-color);\n",
              "    }\n",
              "  }\n",
              "</style>\n",
              "\n",
              "      <script>\n",
              "        async function quickchart(key) {\n",
              "          const quickchartButtonEl =\n",
              "            document.querySelector('#' + key + ' button');\n",
              "          quickchartButtonEl.disabled = true;  // To prevent multiple clicks.\n",
              "          quickchartButtonEl.classList.add('colab-df-spinner');\n",
              "          try {\n",
              "            const charts = await google.colab.kernel.invokeFunction(\n",
              "                'suggestCharts', [key], {});\n",
              "          } catch (error) {\n",
              "            console.error('Error during call to suggestCharts:', error);\n",
              "          }\n",
              "          quickchartButtonEl.classList.remove('colab-df-spinner');\n",
              "          quickchartButtonEl.classList.add('colab-df-quickchart-complete');\n",
              "        }\n",
              "        (() => {\n",
              "          let quickchartButtonEl =\n",
              "            document.querySelector('#df-44137752-cb24-48d8-b619-0f91b51f9499 button');\n",
              "          quickchartButtonEl.style.display =\n",
              "            google.colab.kernel.accessAllowed ? 'block' : 'none';\n",
              "        })();\n",
              "      </script>\n",
              "    </div>\n",
              "\n",
              "    </div>\n",
              "  </div>\n"
            ],
            "application/vnd.google.colaboratory.intrinsic+json": {
              "type": "dataframe",
              "variable_name": "df",
              "summary": "{\n  \"name\": \"df\",\n  \"rows\": 2000,\n  \"fields\": [\n    {\n      \"column\": \"prompt\",\n      \"properties\": {\n        \"dtype\": \"string\",\n        \"num_unique_values\": 2000,\n        \"samples\": [\n          \"ProMeet | cloud storage | \\u00a3228.46 | Bank Transfer | 2025-03-30\",\n          \"AutoLease Co. | sponsored post | \\u00a3333.84 | AMEX | 2023-09-14\",\n          \"OfficeStock | newsletter design | $316.91 | Bank Transfer | 2025-03-23\"\n        ],\n        \"semantic_type\": \"\",\n        \"description\": \"\"\n      }\n    },\n    {\n      \"column\": \"target\",\n      \"properties\": {\n        \"dtype\": \"category\",\n        \"num_unique_values\": 10,\n        \"samples\": [\n          \"Food & Dining\",\n          \"Bank Fees\",\n          \"Transportation\"\n        ],\n        \"semantic_type\": \"\",\n        \"description\": \"\"\n      }\n    }\n  ]\n}"
            }
          },
          "metadata": {},
          "execution_count": 2
        }
      ],
      "source": [
        "import pandas as pd\n",
        "from google.colab import files\n",
        "\n",
        "df = pd.read_csv('sample_data/trainable_categories.csv')\n",
        "df.head()"
      ]
    },
    {
      "cell_type": "code",
      "source": [
        "def to_training_example(row):\n",
        "  return f\"<|prompt|> {row['prompt']} <|target|> {row['target']} <|end|>\"\n",
        "\n",
        "examples = df.apply(to_training_example, axis=1)"
      ],
      "metadata": {
        "id": "ixQy-qz6b9OQ"
      },
      "execution_count": 3,
      "outputs": []
    },
    {
      "cell_type": "code",
      "source": [
        "with open(\"train_data.txt\", \"w\") as f:\n",
        "    for line in examples:\n",
        "        f.write(line + \"\\n\")\n"
      ],
      "metadata": {
        "id": "Nm1UdHz_ejw_"
      },
      "execution_count": 4,
      "outputs": []
    },
    {
      "cell_type": "code",
      "source": [
        "pip install tiktoken"
      ],
      "metadata": {
        "colab": {
          "base_uri": "https://localhost:8080/"
        },
        "collapsed": true,
        "id": "9RnAuUN1Jgyg",
        "outputId": "d1e00e4e-7a8f-4c70-f586-95b100da38e3"
      },
      "execution_count": 5,
      "outputs": [
        {
          "output_type": "stream",
          "name": "stdout",
          "text": [
            "Requirement already satisfied: tiktoken in /usr/local/lib/python3.11/dist-packages (0.9.0)\n",
            "Requirement already satisfied: regex>=2022.1.18 in /usr/local/lib/python3.11/dist-packages (from tiktoken) (2024.11.6)\n",
            "Requirement already satisfied: requests>=2.26.0 in /usr/local/lib/python3.11/dist-packages (from tiktoken) (2.32.3)\n",
            "Requirement already satisfied: charset-normalizer<4,>=2 in /usr/local/lib/python3.11/dist-packages (from requests>=2.26.0->tiktoken) (3.4.2)\n",
            "Requirement already satisfied: idna<4,>=2.5 in /usr/local/lib/python3.11/dist-packages (from requests>=2.26.0->tiktoken) (3.10)\n",
            "Requirement already satisfied: urllib3<3,>=1.21.1 in /usr/local/lib/python3.11/dist-packages (from requests>=2.26.0->tiktoken) (2.4.0)\n",
            "Requirement already satisfied: certifi>=2017.4.17 in /usr/local/lib/python3.11/dist-packages (from requests>=2.26.0->tiktoken) (2025.6.15)\n"
          ]
        }
      ]
    },
    {
      "cell_type": "code",
      "source": [
        "import tiktoken\n",
        "\n",
        "enc = tiktoken.get_encoding('cl100k_base')\n",
        "\n",
        "with open('train_data.txt', \"r\") as f:\n",
        "  data = f.read()\n",
        "\n",
        "encoded = enc.encode(data)\n",
        "print(f\"encoded length: {len(encoded)}\")"
      ],
      "metadata": {
        "colab": {
          "base_uri": "https://localhost:8080/"
        },
        "id": "8SNYqe3oJl53",
        "outputId": "03aebf6a-248b-4373-f603-5b2c0b1bc988"
      },
      "execution_count": 6,
      "outputs": [
        {
          "output_type": "stream",
          "name": "stdout",
          "text": [
            "encoded length: 72255\n"
          ]
        }
      ]
    },
    {
      "cell_type": "code",
      "source": [
        "import numpy as np\n",
        "\n",
        "#90/10 split train val\n",
        "n = int(0.9*len(encoded))\n",
        "train_ids = np.array(encoded[:n], dtype=np.int32)\n",
        "val_ids = np.array(encoded[n:], dtype=np.int32)\n",
        "\n",
        "#save to bins\n",
        "train_ids.tofile('train.bin')\n",
        "val_ids.tofile('val.bin')\n",
        "\n",
        "#print save\n",
        "print(\"saved files\")"
      ],
      "metadata": {
        "colab": {
          "base_uri": "https://localhost:8080/"
        },
        "collapsed": true,
        "id": "Idpc2fGhMOQH",
        "outputId": "4399bc98-c7bf-48c1-bd1b-68cab961bbe5"
      },
      "execution_count": 7,
      "outputs": [
        {
          "output_type": "stream",
          "name": "stdout",
          "text": [
            "saved files\n"
          ]
        }
      ]
    },
    {
      "cell_type": "code",
      "source": [
        "import torch\n",
        "import numpy as np\n",
        "\n",
        "#hyper parameters, batch, dtype, block size, device\n",
        "\n",
        "batch_size = 32\n",
        "block_size = 128\n",
        "device = 'cuda' if torch.cuda.is_available() else 'cpu'\n",
        "dtype = torch.float32\n",
        "\n",
        "\n",
        "#load bin data\n",
        "\n",
        "train_data = np.memmap('train.bin', dtype=np.int32, mode='r')\n",
        "val_data = np.memmap('val.bin', dtype=np.int32, mode='r')\n",
        "\n",
        "\n",
        "def get_batch(split):\n",
        "  data = train_data if split =='train' else val_data\n",
        "  ix = torch.randint(len(data) - block_size, (batch_size,))\n",
        "  x = torch.stack([torch.tensor(data[i:i+block_size], dtype=torch.long) for i in ix])\n",
        "  y = torch.stack([torch.tensor(data[i+1:i+1+block_size], dtype=torch.long) for i in ix])\n",
        "\n",
        "  return x.to(device), y.to(device)\n"
      ],
      "metadata": {
        "collapsed": true,
        "id": "ivD30j9k0rhJ"
      },
      "execution_count": 8,
      "outputs": []
    },
    {
      "cell_type": "code",
      "source": [
        "vocab_size = 100_000 # cl100k but needs tuning cos of the train size\n",
        "n_embed = 256 #tune later"
      ],
      "metadata": {
        "id": "ZzOGHU6f1ZCy"
      },
      "execution_count": 9,
      "outputs": []
    },
    {
      "cell_type": "code",
      "source": [
        "import torch.nn as nn\n",
        "import torch.nn.functional\n",
        "\n",
        "class Transformer(nn.Module):\n",
        "  def __init__(self, vocab_size, n_embed, block_size):\n",
        "    super().__init__()\n",
        "    self.token_embedding_table = nn.Embedding(vocab_size, n_embed)\n",
        "    self.position_embedding_table = nn.Embedding(block_size, n_embed)\n",
        "    self.lm_head = nn.Linear(n_embed, vocab_size)\n",
        "\n",
        "  def forward(self, idx, targets=None):\n",
        "    B, T = idx.shape\n",
        "\n",
        "    tok_emb = self.token_embedding_table(idx)\n",
        "    pos_emb = self.position_embedding_table(torch.arange(T, device=idx.device))\n",
        "    x = tok_emb + pos_emb\n",
        "\n",
        "    logits = self.lm_head(x)\n",
        "\n",
        "    if targets is None:\n",
        "      loss = None\n",
        "\n",
        "    else:\n",
        "      B, T, C = logits.shape\n",
        "      logits = logits.view(B*T, C)\n",
        "      targets = targets.view(B*T)\n",
        "      loss = nn.functional.cross_entropy(logits, targets)\n",
        "\n",
        "    return logits, loss"
      ],
      "metadata": {
        "id": "VBbL45SU47o1"
      },
      "execution_count": 10,
      "outputs": []
    },
    {
      "cell_type": "code",
      "source": [
        "#trying forward pass\n",
        "\n",
        "model = Transformer(vocab_size, n_embed, block_size).to(device)\n",
        "xb, yb = get_batch('train')\n",
        "logits, loss = model(xb, yb)\n",
        "print(logits.shape)\n",
        "print(loss)"
      ],
      "metadata": {
        "colab": {
          "base_uri": "https://localhost:8080/"
        },
        "id": "PGXMJkGy8Ng8",
        "outputId": "c16fbe25-2d3b-4b3f-a45d-595927fcdb9d",
        "collapsed": true
      },
      "execution_count": 11,
      "outputs": [
        {
          "output_type": "stream",
          "name": "stdout",
          "text": [
            "torch.Size([4096, 100000])\n",
            "tensor(11.8130, grad_fn=<NllLossBackward0>)\n"
          ]
        }
      ]
    },
    {
      "cell_type": "code",
      "source": [
        "import torch\n",
        "import torch.nn as nn\n",
        "import torch.nn.functional as F\n",
        "\n",
        "class SelfAttentionHead(nn.Module):\n",
        "  def __init__(self, n_embed, head_size, block_size):\n",
        "    super().__init__()\n",
        "    self.key = nn.Linear(n_embed, head_size, bias=False)\n",
        "    self.query = nn.Linear(n_embed, head_size, bias=False)\n",
        "    self.value = nn.Linear(n_embed, head_size, bias=False)\n",
        "    self.register_buffer(\"tril\", torch.tril(torch.ones(block_size, block_size)))\n",
        "\n",
        "    self.dropout = nn.Dropout(0.1)\n",
        "    self.head_size = head_size\n",
        "\n",
        "  def forward(self, x):\n",
        "    B, T, C = x.shape\n",
        "    k = self.key(x)\n",
        "    q = self.query(x)\n",
        "\n",
        "    #compute attention scores\n",
        "    wei = q @ k.transpose(-2, -1) / self.head_size**0.5\n",
        "\n",
        "    # casual mask prevent tokens from attending to future tokens\n",
        "    wei = wei.masked_fill(self.tril[:T, :T] == 0, float('-inf'))\n",
        "\n",
        "    # softmax normalisation\n",
        "    wei = F.softmax(wei, dim=-1)\n",
        "    wei = self.dropout(wei)\n",
        "\n",
        "    v = self.value(x)\n",
        "    out = wei @ v\n",
        "    return out\n"
      ],
      "metadata": {
        "id": "jexoRTD7_lTi"
      },
      "execution_count": 12,
      "outputs": []
    },
    {
      "cell_type": "code",
      "source": [
        "head = SelfAttentionHead(n_embed=128, head_size=32, block_size=64)\n",
        "x = torch.randn(4, 64, 128)\n",
        "out = head(x)\n",
        "print(out.shape)\n",
        "#(4, 64, 32)\n"
      ],
      "metadata": {
        "colab": {
          "base_uri": "https://localhost:8080/"
        },
        "id": "UDzXPgalDR1e",
        "outputId": "643e92ce-ccc0-403c-c17d-47b4f0fc800a"
      },
      "execution_count": 13,
      "outputs": [
        {
          "output_type": "stream",
          "name": "stdout",
          "text": [
            "torch.Size([4, 64, 32])\n"
          ]
        }
      ]
    },
    {
      "cell_type": "code",
      "source": [
        "class MultiHeadAttention(nn.Module):\n",
        "  def __init__(self, n_heads, n_embed, head_size, block_size):\n",
        "    super().__init__()\n",
        "    self.heads = nn.ModuleList([\n",
        "        SelfAttentionHead(n_embed, head_size, block_size) for _ in range(n_heads)\n",
        "    ])\n",
        "    self.proj = nn.Linear(n_heads * head_size, n_embed)\n",
        "    self.dropout = nn.Dropout(0.1)\n",
        "\n",
        "  def forward(self, x):\n",
        "    out = torch.cat([h(x) for h in self.heads], dim=-1)\n",
        "    out = self.dropout(self.proj(out))\n",
        "    return out"
      ],
      "metadata": {
        "id": "g0clo-u3D62w"
      },
      "execution_count": 14,
      "outputs": []
    },
    {
      "cell_type": "code",
      "source": [
        "x = torch.randn(4, 64, 128)\n",
        "mha = MultiHeadAttention(n_heads=4, n_embed=128, head_size=32, block_size=64)\n",
        "out = mha(x)\n",
        "print(out.shape)\n"
      ],
      "metadata": {
        "colab": {
          "base_uri": "https://localhost:8080/"
        },
        "id": "cmMr391LE54m",
        "outputId": "b6035751-28f6-4962-ccbb-1e1a953314fa"
      },
      "execution_count": 15,
      "outputs": [
        {
          "output_type": "stream",
          "name": "stdout",
          "text": [
            "torch.Size([4, 64, 128])\n"
          ]
        }
      ]
    },
    {
      "cell_type": "code",
      "source": [
        "class FeedForward(nn.Module):\n",
        "  def __init__(self, n_embed):\n",
        "    super().__init__()\n",
        "    self.net = nn.Sequential(\n",
        "        nn.Linear(n_embed, 4 * n_embed),\n",
        "        nn.ReLU(),\n",
        "        nn.Linear(4 * n_embed, n_embed),\n",
        "        nn.Dropout(0.1)\n",
        "    )\n",
        "\n",
        "  def forward(self, x):\n",
        "      return self.net(x)"
      ],
      "metadata": {
        "id": "FqRXHVNfWIvy"
      },
      "execution_count": 16,
      "outputs": []
    },
    {
      "cell_type": "code",
      "source": [
        "class TransformerBlock(nn.Module):\n",
        "  def __init__(self, n_embed, n_heads, block_size):\n",
        "    super().__init__()\n",
        "    head_size = n_embed // n_heads\n",
        "    self.ln1 = nn.LayerNorm(n_embed)\n",
        "    self.ln2 = nn.LayerNorm(n_embed)\n",
        "    self.sa = MultiHeadAttention(n_heads, n_embed, head_size, block_size)\n",
        "    self.ffwd = FeedForward(n_embed)\n",
        "\n",
        "  def forward(self, x):\n",
        "    x = x + self.sa(self.ln1(x))\n",
        "    x = x + self.ffwd(self.ln2(x))\n",
        "    return x\n"
      ],
      "metadata": {
        "id": "1NM3tSkiW3im"
      },
      "execution_count": 17,
      "outputs": []
    },
    {
      "cell_type": "code",
      "source": [
        "x = torch.randn(4, 64, 128)\n",
        "block = TransformerBlock(n_embed=128, n_heads=4, block_size=64)\n",
        "out = block(x)\n",
        "print(out.shape)\n"
      ],
      "metadata": {
        "colab": {
          "base_uri": "https://localhost:8080/"
        },
        "id": "Qhr3nuJ4XsUJ",
        "outputId": "a2f9dccc-34b2-41c2-8929-844c5243623d"
      },
      "execution_count": 18,
      "outputs": [
        {
          "output_type": "stream",
          "name": "stdout",
          "text": [
            "torch.Size([4, 64, 128])\n"
          ]
        }
      ]
    },
    {
      "cell_type": "code",
      "source": [
        "class Transformer(nn.Module):\n",
        "  def __init__(self, vocab_size, n_embed, block_size, n_heads, n_layers):\n",
        "    super().__init__()\n",
        "    self.token_embedding_table = nn.Embedding(vocab_size, n_embed)\n",
        "    self.position_embedding_table = nn.Embedding(block_size, n_embed)\n",
        "\n",
        "    self.blocks = nn.Sequential(*[\n",
        "        TransformerBlock(n_embed, n_heads, block_size) for _ in range(n_layers)\n",
        "    ])\n",
        "    self.ln_f = nn.LayerNorm(n_embed)\n",
        "    self.head = nn.Linear(n_embed, vocab_size)\n",
        "\n",
        "    self.block_size = block_size\n",
        "    self.vocab_Size = vocab_size\n",
        "\n",
        "  def forward(self, idx, targets=None):\n",
        "    B, T = idx.shape\n",
        "\n",
        "    tok_emb = self.token_embedding_table(idx)\n",
        "    pos_emb = self.position_embedding_table(torch.arange(T, device=idx.device))\n",
        "    x = tok_emb + pos_emb\n",
        "\n",
        "    x = self.blocks(x)\n",
        "    x =self.ln_f(x)\n",
        "    logits = self.head(x)\n",
        "\n",
        "    if targets is None:\n",
        "      loss = None\n",
        "\n",
        "    else:\n",
        "      B, T, C = logits.shape\n",
        "      logits = logits.view(B*T, C)\n",
        "      targets = targets.view(B*T)\n",
        "      loss = F.cross_entropy(logits, targets)\n",
        "\n",
        "    return logits, loss\n",
        "\n",
        "\n",
        "  def generate(self, idx, max_new_tokens):\n",
        "    for _ in range(max_new_tokens):\n",
        "        idx_cond =idx[:, -self.block_size:]\n",
        "        logits, _ = self(idx_cond)\n",
        "        logits = logits[:, -1, :]\n",
        "        probs = F.softmax(logits, dim=1)\n",
        "        next_token = torch.multinomial(probs, num_samples=1)\n",
        "        idx = torch.cat((idx, next_token), dim=1)\n",
        "\n",
        "    return idx"
      ],
      "metadata": {
        "id": "JUzzWoTmGkGE"
      },
      "execution_count": 19,
      "outputs": []
    },
    {
      "cell_type": "code",
      "source": [
        "model = Transformer(\n",
        "    vocab_size = vocab_size,\n",
        "    n_embed = 128,\n",
        "    block_size = block_size,\n",
        "    n_heads = 4,\n",
        "    n_layers = 4,\n",
        ").to(device)\n",
        "\n",
        "xb, yb = get_batch('train')\n",
        "logits, loss = model(xb, yb)\n",
        "print(logits.shape)\n",
        "print(loss)"
      ],
      "metadata": {
        "colab": {
          "base_uri": "https://localhost:8080/"
        },
        "id": "XyrOlAIEI4gh",
        "outputId": "b3545fd2-6c54-4bf4-9a9b-f6c1db5fe1bc"
      },
      "execution_count": 20,
      "outputs": [
        {
          "output_type": "stream",
          "name": "stdout",
          "text": [
            "torch.Size([4096, 100000])\n",
            "tensor(11.6779, grad_fn=<NllLossBackward0>)\n"
          ]
        }
      ]
    },
    {
      "cell_type": "code",
      "source": [
        "import torch\n",
        "import torch.nn as nn\n",
        "import torch.optim as optim\n",
        "import numpy as np\n",
        "import time\n",
        "import torch.nn.functional as F\n",
        "\n",
        "\n",
        "#HP\n",
        "batch_size = 32 # had to reduce\n",
        "block_size = 64 # had to reduce this too\n",
        "max_iters = 2000\n",
        "eval_interval = 100\n",
        "learning_rate = 1e-3\n",
        "device = 'cuda' if torch.cuda.is_available() else 'cpu'\n",
        "\n",
        "\n",
        "#load bins\n",
        "train_data = np.memmap('train.bin', dtype=np.int32, mode='r')\n",
        "val_data = np.memmap('val.bin', dtype=np.int32, mode='r')\n",
        "vocab_size = 100000\n",
        "\n",
        "\n",
        "#data loader in batches\n",
        "def get_batch(split):\n",
        "  data = train_data if split == 'train' else val_data\n",
        "  ix = torch.randint(len(data) - block_size, (batch_size,))\n",
        "  x = torch.stack([torch.tensor(data[i:i+block_size]) for i in ix])\n",
        "  y = torch.stack(([torch.tensor(data[i+1:i+block_size+1]) for i in ix]))\n",
        "  return x.to(device), y.to(device).long()\n",
        "\n",
        "\n",
        "model = Transformer(\n",
        "    vocab_size = vocab_size,\n",
        "    n_embed = 128,\n",
        "    block_size = block_size,\n",
        "    n_heads = 4,\n",
        "    n_layers = 4,\n",
        ").to(device)\n",
        "\n",
        "\n",
        "optimiser = optim.AdamW(model.parameters(), lr=learning_rate)\n",
        "loss_fn = nn.CrossEntropyLoss()\n",
        "\n",
        "\n",
        "#track best val loss\n",
        "best_val_loss = float('inf')\n",
        "\n",
        "\n",
        "#loop\n",
        "for step in range(max_iters):\n",
        "  model.train()\n",
        "  xb, yb = get_batch('train')\n",
        "\n",
        "  logits, loss = model(xb, yb)\n",
        "\n",
        "  optimiser.zero_grad()\n",
        "  loss.backward()\n",
        "  optimiser.step()\n",
        "\n",
        "  #evaluate\n",
        "  if step % eval_interval == 0:\n",
        "    model.eval()\n",
        "    with torch.no_grad():\n",
        "      val_xb, val_yb = get_batch('val')\n",
        "      val_logits, val_loss = model(val_xb, val_yb)\n",
        "\n",
        "      print(f\"[step {step}] train loss: {loss.item():.4f} | val loss: {val_loss.item():.4f}\")\n",
        "\n",
        "      #save best checkpoint\n",
        "      if val_loss.item() < best_val_loss:\n",
        "        best_val_loss = val_loss.item()\n",
        "        torch.save(model.state_dict(), 'best_model.pt')\n",
        "        print(\"~~~~ Saved best new model ~~~~\")\n",
        "\n",
        "print(\"~~~ TRAINING COMPLETE ~~~~\")"
      ],
      "metadata": {
        "colab": {
          "base_uri": "https://localhost:8080/"
        },
        "id": "X5uyw-0CNudL",
        "outputId": "8692366a-d1b0-4ba7-95ad-50d611f08e51"
      },
      "execution_count": 21,
      "outputs": [
        {
          "output_type": "stream",
          "name": "stdout",
          "text": [
            "[step 0] train loss: 11.7048 | val loss: 11.0875\n",
            "~~~~ Saved best new model ~~~~\n",
            "[step 100] train loss: 1.3153 | val loss: 1.3097\n",
            "~~~~ Saved best new model ~~~~\n",
            "[step 200] train loss: 0.9245 | val loss: 0.9005\n",
            "~~~~ Saved best new model ~~~~\n",
            "[step 300] train loss: 0.8583 | val loss: 0.8589\n",
            "~~~~ Saved best new model ~~~~\n",
            "[step 400] train loss: 0.8369 | val loss: 0.8361\n",
            "~~~~ Saved best new model ~~~~\n",
            "[step 500] train loss: 0.8314 | val loss: 0.8369\n",
            "[step 600] train loss: 0.8216 | val loss: 0.8450\n",
            "[step 700] train loss: 0.7910 | val loss: 0.8195\n",
            "~~~~ Saved best new model ~~~~\n",
            "[step 800] train loss: 0.8193 | val loss: 0.7988\n",
            "~~~~ Saved best new model ~~~~\n",
            "[step 900] train loss: 0.7529 | val loss: 0.8281\n",
            "[step 1000] train loss: 0.7705 | val loss: 0.8062\n",
            "[step 1100] train loss: 0.7265 | val loss: 0.8133\n",
            "[step 1200] train loss: 0.7460 | val loss: 0.7781\n",
            "~~~~ Saved best new model ~~~~\n",
            "[step 1300] train loss: 0.7406 | val loss: 0.8528\n",
            "[step 1400] train loss: 0.7034 | val loss: 0.8175\n",
            "[step 1500] train loss: 0.6835 | val loss: 0.8451\n",
            "[step 1600] train loss: 0.6629 | val loss: 0.8417\n",
            "[step 1700] train loss: 0.6380 | val loss: 0.8875\n",
            "[step 1800] train loss: 0.6297 | val loss: 0.9047\n",
            "[step 1900] train loss: 0.6139 | val loss: 0.9042\n",
            "~~~ TRAINING COMPLETE ~~~~\n"
          ]
        }
      ]
    }
  ]
}